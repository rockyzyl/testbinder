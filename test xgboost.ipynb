{
 "cells": [
  {
   "cell_type": "code",
   "execution_count": 1,
   "metadata": {},
   "outputs": [
    {
     "name": "stdout",
     "output_type": "stream",
     "text": [
      "[0]\teval-auc:0.5\ttrain-auc:0.5\n",
      "[1]\teval-auc:0.5\ttrain-auc:0.5\n",
      "[2]\teval-auc:0.5\ttrain-auc:0.5\n",
      "[3]\teval-auc:0.5\ttrain-auc:0.5\n",
      "[4]\teval-auc:0.5\ttrain-auc:0.5\n",
      "[5]\teval-auc:0.5\ttrain-auc:0.5\n",
      "[6]\teval-auc:0.5\ttrain-auc:0.5\n",
      "[7]\teval-auc:0.5\ttrain-auc:0.5\n",
      "[8]\teval-auc:0.5\ttrain-auc:0.5\n",
      "[9]\teval-auc:0.5\ttrain-auc:0.5\n"
     ]
    },
    {
     "name": "stderr",
     "output_type": "stream",
     "text": [
      "/srv/venv/lib/python3.5/site-packages/sklearn/cross_validation.py:41: DeprecationWarning: This module was deprecated in version 0.18 in favor of the model_selection module into which all the refactored classes and functions are moved. Also note that the interface of the new CV iterators are different from that of this module. This module will be removed in 0.20.\n",
      "  \"This module will be removed in 0.20.\", DeprecationWarning)\n"
     ]
    }
   ],
   "source": [
    "import numpy as np  \n",
    "import xgboost as xgb  \n",
    "data = np.random.rand(5,10) # 5 entities, each contains 10 features  \n",
    "label = np.random.randint(2, size=5) # binary target  \n",
    "dtrain = xgb.DMatrix( data, label=label)  \n",
    "  \n",
    "dtest = dtrain  \n",
    "  \n",
    "param = {'bst:max_depth':2, 'bst:eta':1, 'silent':1, 'objective':'binary:logistic' }  \n",
    "param['nthread'] = 4  \n",
    "param['eval_metric'] = 'auc'  \n",
    "  \n",
    "evallist  = [(dtest,'eval'), (dtrain,'train')]  \n",
    "  \n",
    "num_round = 10  \n",
    "bst = xgb.train( param, dtrain, num_round, evallist )  \n",
    "  \n",
    "# bst.dump_model('dump.raw.txt') "
   ]
  },
  {
   "cell_type": "code",
   "execution_count": 2,
   "metadata": {
    "ExecuteTime": {
     "end_time": "2017-12-19T16:13:47.024600Z",
     "start_time": "2017-12-19T16:13:46.477600Z"
    }
   },
   "outputs": [
    {
     "data": {
      "text/plain": [
       "'1.0.0'"
      ]
     },
     "execution_count": 2,
     "metadata": {},
     "output_type": "execute_result"
    }
   ],
   "source": [
    "import scipy as sp\n",
    "sp.__version__"
   ]
  },
  {
   "cell_type": "code",
   "execution_count": 3,
   "metadata": {
    "ExecuteTime": {
     "end_time": "2017-12-19T16:14:30.263600Z",
     "start_time": "2017-12-19T16:14:30.255600Z"
    }
   },
   "outputs": [
    {
     "data": {
      "text/plain": [
       "'1.13.3'"
      ]
     },
     "execution_count": 3,
     "metadata": {},
     "output_type": "execute_result"
    }
   ],
   "source": [
    "import numpy as np\n",
    "np.__version__"
   ]
  },
  {
   "cell_type": "code",
   "execution_count": 4,
   "metadata": {
    "ExecuteTime": {
     "end_time": "2017-12-19T16:15:14.410600Z",
     "start_time": "2017-12-19T16:14:49.830600Z"
    }
   },
   "outputs": [
    {
     "name": "stdout",
     "output_type": "stream",
     "text": [
      "\n",
      "INSTALLED VERSIONS\n",
      "------------------\n",
      "commit: None\n",
      "python: 3.5.3.final.0\n",
      "python-bits: 64\n",
      "OS: Linux\n",
      "OS-release: 4.4.79+\n",
      "machine: x86_64\n",
      "processor: x86_64\n",
      "byteorder: little\n",
      "LC_ALL: en_US.UTF-8\n",
      "LANG: en_US.UTF-8\n",
      "LOCALE: en_US.UTF-8\n",
      "\n",
      "pandas: 0.21.1\n",
      "pytest: None\n",
      "pip: 9.0.1\n",
      "setuptools: 32.3.1\n",
      "Cython: None\n",
      "numpy: 1.13.3\n",
      "scipy: 1.0.0\n",
      "pyarrow: None\n",
      "xarray: None\n",
      "IPython: 6.2.1\n",
      "sphinx: None\n",
      "patsy: None\n",
      "dateutil: 2.6.1\n",
      "pytz: 2017.3\n",
      "blosc: None\n",
      "bottleneck: None\n",
      "tables: None\n",
      "numexpr: None\n",
      "feather: None\n",
      "matplotlib: 2.1.1\n",
      "openpyxl: None\n",
      "xlrd: None\n",
      "xlwt: None\n",
      "xlsxwriter: None\n",
      "lxml: None\n",
      "bs4: None\n",
      "html5lib: 0.999999999\n",
      "sqlalchemy: None\n",
      "pymysql: None\n",
      "psycopg2: None\n",
      "jinja2: 2.10\n",
      "s3fs: None\n",
      "fastparquet: None\n",
      "pandas_gbq: None\n",
      "pandas_datareader: None\n"
     ]
    }
   ],
   "source": [
    "import pandas as pd\n",
    "pd.show_versions()"
   ]
  },
  {
   "cell_type": "code",
   "execution_count": 5,
   "metadata": {
    "ExecuteTime": {
     "end_time": "2017-12-19T16:17:36.900600Z",
     "start_time": "2017-12-19T16:17:36.889600Z"
    }
   },
   "outputs": [
    {
     "data": {
      "text/plain": [
       "'0.8.1'"
      ]
     },
     "execution_count": 5,
     "metadata": {},
     "output_type": "execute_result"
    }
   ],
   "source": [
    "import seaborn as sns\n",
    "sns.__version__"
   ]
  },
  {
   "cell_type": "code",
   "execution_count": 6,
   "metadata": {
    "ExecuteTime": {
     "end_time": "2017-12-19T16:18:24.472600Z",
     "start_time": "2017-12-19T16:18:21.800600Z"
    }
   },
   "outputs": [
    {
     "data": {
      "text/plain": [
       "'0.6'"
      ]
     },
     "execution_count": 6,
     "metadata": {},
     "output_type": "execute_result"
    }
   ],
   "source": [
    "import xgboost as xgb\n",
    "xgb.__version__"
   ]
  },
  {
   "cell_type": "code",
   "execution_count": 7,
   "metadata": {},
   "outputs": [
    {
     "name": "stderr",
     "output_type": "stream",
     "text": [
      "Using TensorFlow backend.\n"
     ]
    }
   ],
   "source": [
    "import keras"
   ]
  },
  {
   "cell_type": "code",
   "execution_count": 8,
   "metadata": {},
   "outputs": [
    {
     "name": "stdout",
     "output_type": "stream",
     "text": [
      "Currently running servers:\r\n",
      "http://0.0.0.0:8888/user/stonezyl-testbinder-9beql611/?token=ogwKwZR7Tp-mWW5JU7p_IA :: /home/jovyan\r\n"
     ]
    }
   ],
   "source": [
    "!jupyter notebook list"
   ]
  },
  {
   "cell_type": "code",
   "execution_count": null,
   "metadata": {},
   "outputs": [],
   "source": []
  }
 ],
 "metadata": {
  "kernelspec": {
   "display_name": "Python 3",
   "language": "python",
   "name": "python3"
  },
  "language_info": {
   "codemirror_mode": {
    "name": "ipython",
    "version": 3
   },
   "file_extension": ".py",
   "mimetype": "text/x-python",
   "name": "python",
   "nbconvert_exporter": "python",
   "pygments_lexer": "ipython3",
   "version": "3.5.3"
  },
  "toc": {
   "nav_menu": {},
   "number_sections": true,
   "sideBar": true,
   "skip_h1_title": false,
   "toc_cell": false,
   "toc_position": {},
   "toc_section_display": "block",
   "toc_window_display": false
  }
 },
 "nbformat": 4,
 "nbformat_minor": 2
}
